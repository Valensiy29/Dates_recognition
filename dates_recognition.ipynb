{
 "cells": [
  {
   "cell_type": "code",
   "execution_count": 10,
   "metadata": {
    "collapsed": true,
    "pycharm": {
     "name": "#%%\n"
    }
   },
   "outputs": [],
   "source": [
    "import pandas as pd\n",
    "from sklearn import tree\n",
    "from sklearn import metrics\n",
    "from sklearn.model_selection import train_test_split\n",
    "from sklearn.neighbors import KNeighborsClassifier\n",
    "from sklearn.metrics import confusion_matrix, ConfusionMatrixDisplay\n",
    "import matplotlib.pyplot as plt\n",
    "\n",
    "df = pd.read_csv('dates.csv')"
   ]
  },
  {
   "cell_type": "code",
   "execution_count": 3,
   "outputs": [
    {
     "data": {
      "text/plain": "match\n0    862\n1    186\nName: count, dtype: int64"
     },
     "execution_count": 3,
     "metadata": {},
     "output_type": "execute_result"
    }
   ],
   "source": [
    "df.head()\n",
    "\n",
    "df.columns\n",
    "\n",
    "X = df.drop(['decision', 'decision_o','match'], axis = 1) # то, с помощью чего предсказываем\n",
    "y = df['match'] # то, что предсказываем\n",
    "\n",
    "y.value_counts()"
   ],
   "metadata": {
    "collapsed": false,
    "pycharm": {
     "name": "#%%\n"
    }
   }
  },
  {
   "cell_type": "code",
   "execution_count": 4,
   "outputs": [
    {
     "name": "stdout",
     "output_type": "stream",
     "text": [
      "<class 'pandas.core.frame.DataFrame'>\n",
      "RangeIndex: 1048 entries, 0 to 1047\n",
      "Data columns (total 52 columns):\n",
      " #   Column                         Non-Null Count  Dtype  \n",
      "---  ------                         --------------  -----  \n",
      " 0   gender                         1048 non-null   object \n",
      " 1   age                            1048 non-null   int64  \n",
      " 2   age_o                          1048 non-null   int64  \n",
      " 3   field                          1048 non-null   object \n",
      " 4   pref_o_attractive              1048 non-null   float64\n",
      " 5   pref_o_sincere                 1048 non-null   float64\n",
      " 6   pref_o_intelligence            1048 non-null   float64\n",
      " 7   pref_o_funny                   1048 non-null   float64\n",
      " 8   pref_o_ambitious               1048 non-null   float64\n",
      " 9   pref_o_shared_interests        1048 non-null   float64\n",
      " 10  attractive_o                   1048 non-null   float64\n",
      " 11  sinsere_o                      1048 non-null   int64  \n",
      " 12  intelligence_o                 1048 non-null   float64\n",
      " 13  funny_o                        1048 non-null   float64\n",
      " 14  ambitous_o                     1048 non-null   int64  \n",
      " 15  shared_interests_o             1048 non-null   float64\n",
      " 16  attractive                     1048 non-null   int64  \n",
      " 17  sincere                        1048 non-null   int64  \n",
      " 18  intelligence                   1048 non-null   int64  \n",
      " 19  funny                          1048 non-null   int64  \n",
      " 20  ambition                       1048 non-null   int64  \n",
      " 21  attractive_partner             1048 non-null   int64  \n",
      " 22  sincere_partner                1048 non-null   int64  \n",
      " 23  intelligence_partner           1048 non-null   int64  \n",
      " 24  funny_partner                  1048 non-null   int64  \n",
      " 25  ambition_partner               1048 non-null   int64  \n",
      " 26  shared_interests_partner       1048 non-null   int64  \n",
      " 27  sports                         1048 non-null   int64  \n",
      " 28  tvsports                       1048 non-null   int64  \n",
      " 29  exercise                       1048 non-null   int64  \n",
      " 30  dining                         1048 non-null   int64  \n",
      " 31  museums                        1048 non-null   int64  \n",
      " 32  art                            1048 non-null   int64  \n",
      " 33  hiking                         1048 non-null   int64  \n",
      " 34  gaming                         1048 non-null   int64  \n",
      " 35  clubbing                       1048 non-null   int64  \n",
      " 36  reading                        1048 non-null   int64  \n",
      " 37  tv                             1048 non-null   int64  \n",
      " 38  theater                        1048 non-null   int64  \n",
      " 39  movies                         1048 non-null   int64  \n",
      " 40  concerts                       1048 non-null   int64  \n",
      " 41  music                          1048 non-null   int64  \n",
      " 42  shopping                       1048 non-null   int64  \n",
      " 43  yoga                           1048 non-null   int64  \n",
      " 44  expected_happy_with_sd_people  1048 non-null   int64  \n",
      " 45  expected_num_interested_in_me  1048 non-null   int64  \n",
      " 46  expected_num_matches           1048 non-null   int64  \n",
      " 47  like                           1048 non-null   float64\n",
      " 48  met                            1048 non-null   int64  \n",
      " 49  decision                       1048 non-null   int64  \n",
      " 50  decision_o                     1048 non-null   int64  \n",
      " 51  match                          1048 non-null   int64  \n",
      "dtypes: float64(11), int64(39), object(2)\n",
      "memory usage: 425.9+ KB\n",
      "<class 'pandas.core.frame.DataFrame'>\n",
      "RangeIndex: 1048 entries, 0 to 1047\n",
      "Data columns (total 98 columns):\n",
      " #   Column                                       Non-Null Count  Dtype  \n",
      "---  ------                                       --------------  -----  \n",
      " 0   age                                          1048 non-null   int64  \n",
      " 1   age_o                                        1048 non-null   int64  \n",
      " 2   pref_o_attractive                            1048 non-null   float64\n",
      " 3   pref_o_sincere                               1048 non-null   float64\n",
      " 4   pref_o_intelligence                          1048 non-null   float64\n",
      " 5   pref_o_funny                                 1048 non-null   float64\n",
      " 6   pref_o_ambitious                             1048 non-null   float64\n",
      " 7   pref_o_shared_interests                      1048 non-null   float64\n",
      " 8   attractive_o                                 1048 non-null   float64\n",
      " 9   sinsere_o                                    1048 non-null   int64  \n",
      " 10  intelligence_o                               1048 non-null   float64\n",
      " 11  funny_o                                      1048 non-null   float64\n",
      " 12  ambitous_o                                   1048 non-null   int64  \n",
      " 13  shared_interests_o                           1048 non-null   float64\n",
      " 14  attractive                                   1048 non-null   int64  \n",
      " 15  sincere                                      1048 non-null   int64  \n",
      " 16  intelligence                                 1048 non-null   int64  \n",
      " 17  funny                                        1048 non-null   int64  \n",
      " 18  ambition                                     1048 non-null   int64  \n",
      " 19  attractive_partner                           1048 non-null   int64  \n",
      " 20  sincere_partner                              1048 non-null   int64  \n",
      " 21  intelligence_partner                         1048 non-null   int64  \n",
      " 22  funny_partner                                1048 non-null   int64  \n",
      " 23  ambition_partner                             1048 non-null   int64  \n",
      " 24  shared_interests_partner                     1048 non-null   int64  \n",
      " 25  sports                                       1048 non-null   int64  \n",
      " 26  tvsports                                     1048 non-null   int64  \n",
      " 27  exercise                                     1048 non-null   int64  \n",
      " 28  dining                                       1048 non-null   int64  \n",
      " 29  museums                                      1048 non-null   int64  \n",
      " 30  art                                          1048 non-null   int64  \n",
      " 31  hiking                                       1048 non-null   int64  \n",
      " 32  gaming                                       1048 non-null   int64  \n",
      " 33  clubbing                                     1048 non-null   int64  \n",
      " 34  reading                                      1048 non-null   int64  \n",
      " 35  tv                                           1048 non-null   int64  \n",
      " 36  theater                                      1048 non-null   int64  \n",
      " 37  movies                                       1048 non-null   int64  \n",
      " 38  concerts                                     1048 non-null   int64  \n",
      " 39  music                                        1048 non-null   int64  \n",
      " 40  shopping                                     1048 non-null   int64  \n",
      " 41  yoga                                         1048 non-null   int64  \n",
      " 42  expected_happy_with_sd_people                1048 non-null   int64  \n",
      " 43  expected_num_interested_in_me                1048 non-null   int64  \n",
      " 44  expected_num_matches                         1048 non-null   int64  \n",
      " 45  like                                         1048 non-null   float64\n",
      " 46  met                                          1048 non-null   int64  \n",
      " 47  gender_male                                  1048 non-null   bool   \n",
      " 48  field_Art History/Medicine                   1048 non-null   bool   \n",
      " 49  field_Biomedical Engineering                 1048 non-null   bool   \n",
      " 50  field_Business                               1048 non-null   bool   \n",
      " 51  field_Business & International Affairs       1048 non-null   bool   \n",
      " 52  field_Business [Mba]                         1048 non-null   bool   \n",
      " 53  field_Business- Mba                          1048 non-null   bool   \n",
      " 54  field_Chemistry                              1048 non-null   bool   \n",
      " 55  field_Classics                               1048 non-null   bool   \n",
      " 56  field_Communications                         1048 non-null   bool   \n",
      " 57  field_Computer Science                       1048 non-null   bool   \n",
      " 58  field_Economics                              1048 non-null   bool   \n",
      " 59  field_Economics And Political Science        1048 non-null   bool   \n",
      " 60  field_Economics; Sociology                   1048 non-null   bool   \n",
      " 61  field_Educational Psychology                 1048 non-null   bool   \n",
      " 62  field_Electrical Engineering                 1048 non-null   bool   \n",
      " 63  field_Elementary/Childhood Education [Ma]    1048 non-null   bool   \n",
      " 64  field_Engineering                            1048 non-null   bool   \n",
      " 65  field_English                                1048 non-null   bool   \n",
      " 66  field_Film                                   1048 non-null   bool   \n",
      " 67  field_Finanace                               1048 non-null   bool   \n",
      " 68  field_Finance                                1048 non-null   bool   \n",
      " 69  field_Finance&Economics                      1048 non-null   bool   \n",
      " 70  field_Financial Math                         1048 non-null   bool   \n",
      " 71  field_German Literature                      1048 non-null   bool   \n",
      " 72  field_International Educational Development  1048 non-null   bool   \n",
      " 73  field_Journalism                             1048 non-null   bool   \n",
      " 74  field_Law                                    1048 non-null   bool   \n",
      " 75  field_Marketing                              1048 non-null   bool   \n",
      " 76  field_Masters In Public Administration       1048 non-null   bool   \n",
      " 77  field_Masters Of Social Work                 1048 non-null   bool   \n",
      " 78  field_Mathematical Finance                   1048 non-null   bool   \n",
      " 79  field_Mathematics                            1048 non-null   bool   \n",
      " 80  field_Mba                                    1048 non-null   bool   \n",
      " 81  field_Mechanical Engineering                 1048 non-null   bool   \n",
      " 82  field_Medicine                               1048 non-null   bool   \n",
      " 83  field_Microbiology                           1048 non-null   bool   \n",
      " 84  field_Operations Research                    1048 non-null   bool   \n",
      " 85  field_Operations Research [Seas]             1048 non-null   bool   \n",
      " 86  field_Organizational Psychology              1048 non-null   bool   \n",
      " 87  field_Philosophy                             1048 non-null   bool   \n",
      " 88  field_Polish                                 1048 non-null   bool   \n",
      " 89  field_Political Science                      1048 non-null   bool   \n",
      " 90  field_Psychology                             1048 non-null   bool   \n",
      " 91  field_Psychology And English                 1048 non-null   bool   \n",
      " 92  field_Social Work                            1048 non-null   bool   \n",
      " 93  field_Sociology                              1048 non-null   bool   \n",
      " 94  field_Speech Language Pathology              1048 non-null   bool   \n",
      " 95  field_Statistics                             1048 non-null   bool   \n",
      " 96  field_Tc [Health Ed]                         1048 non-null   bool   \n",
      " 97  field_Undergrad - Gs                         1048 non-null   bool   \n",
      "dtypes: bool(51), float64(11), int64(36)\n",
      "memory usage: 437.1 KB\n"
     ]
    }
   ],
   "source": [
    "df.info()\n",
    "\n",
    "X = pd.get_dummies(X, drop_first = True)\n",
    "\n",
    "X.info()"
   ],
   "metadata": {
    "collapsed": false,
    "pycharm": {
     "name": "#%%\n"
    }
   }
  },
  {
   "cell_type": "code",
   "execution_count": 5,
   "outputs": [],
   "source": [
    "X_train, X_test, y_train, y_test = train_test_split(X, y, stratify=y, random_state = 1, test_size = 0.2)"
   ],
   "metadata": {
    "collapsed": false,
    "pycharm": {
     "name": "#%%\n"
    }
   }
  },
  {
   "cell_type": "code",
   "execution_count": 6,
   "outputs": [
    {
     "name": "stdout",
     "output_type": "stream",
     "text": [
      "0.8\n"
     ]
    }
   ],
   "source": [
    "dt = tree.DecisionTreeClassifier(\n",
    "    max_depth=5,\n",
    "    random_state=42\n",
    ")\n",
    "\n",
    "dt.fit(X_train, y_train)\n",
    "y_test_pred = dt.predict(X_test)\n",
    "print(metrics.accuracy_score(y_test, y_test_pred))"
   ],
   "metadata": {
    "collapsed": false,
    "pycharm": {
     "name": "#%%\n"
    }
   }
  },
  {
   "cell_type": "code",
   "execution_count": 8,
   "outputs": [
    {
     "name": "stdout",
     "output_type": "stream",
     "text": [
      "0.8380952380952381\n"
     ]
    }
   ],
   "source": [
    "knn = KNeighborsClassifier(n_neighbors = 9)\n",
    "\n",
    "knn.fit(X_train, y_train)\n",
    "\n",
    "y_test_pred = knn.predict(X_test)\n",
    "print(metrics.accuracy_score(y_test, y_test_pred))"
   ],
   "metadata": {
    "collapsed": false,
    "pycharm": {
     "name": "#%%\n"
    }
   }
  },
  {
   "cell_type": "code",
   "execution_count": 9,
   "outputs": [
    {
     "name": "stdout",
     "output_type": "stream",
     "text": [
      "[[171   2]\n",
      " [ 32   5]]\n"
     ]
    }
   ],
   "source": [
    "print(metrics.confusion_matrix(y_test, y_test_pred))"
   ],
   "metadata": {
    "collapsed": false,
    "pycharm": {
     "name": "#%%\n"
    }
   }
  },
  {
   "cell_type": "code",
   "execution_count": 11,
   "outputs": [
    {
     "data": {
      "text/plain": "<Figure size 640x480 with 2 Axes>",
      "image/png": "[encoded data removed]"
     },
     "metadata": {},
     "output_type": "display_data"
    }
   ],
   "source": [
    "\n",
    "cm = metrics.confusion_matrix(y_test, y_test_pred)\n",
    "disp = ConfusionMatrixDisplay(confusion_matrix=cm,  display_labels=knn.classes_)\n",
    "disp.plot()\n",
    "plt.show()"
   ],
   "metadata": {
    "collapsed": false,
    "pycharm": {
     "name": "#%%\n"
    }
   }
  },
  {
   "cell_type": "code",
   "execution_count": null,
   "outputs": [],
   "source": [],
   "metadata": {
    "collapsed": false,
    "pycharm": {
     "name": "#%%\n"
    }
   }
  }
 ],
 "metadata": {
  "kernelspec": {
   "display_name": "Python 3",
   "language": "python",
   "name": "python3"
  },
  "language_info": {
   "codemirror_mode": {
    "name": "ipython",
    "version": 2
   },
   "file_extension": ".py",
   "mimetype": "text/x-python",
   "name": "python",
   "nbconvert_exporter": "python",
   "pygments_lexer": "ipython2",
   "version": "2.7.6"
  }
 },
 "nbformat": 4,
 "nbformat_minor": 0
}